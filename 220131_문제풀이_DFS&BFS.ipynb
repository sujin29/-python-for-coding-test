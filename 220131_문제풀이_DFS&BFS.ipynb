{
 "cells": [
  {
   "cell_type": "markdown",
   "id": "aa53f7ce",
   "metadata": {},
   "source": [
    "### DFS 소스코드 예제"
   ]
  },
  {
   "cell_type": "code",
   "execution_count": 1,
   "id": "15b3be3f",
   "metadata": {},
   "outputs": [],
   "source": [
    "# DFS 메서드 정의\n",
    "\n",
    "def dfs(graph, v, visited):\n",
    "    # 현재 노드를 방문 처리\n",
    "    visited[v] = True\n",
    "    print(v, end = ' ')\n",
    "    # 현재 노드와 연결된 다른 노드를 재귀적으로 방문\n",
    "    for i in graph[v]:\n",
    "        if not visited[i]:\n",
    "            dfs(graph, i, visited)"
   ]
  },
  {
   "cell_type": "code",
   "execution_count": 2,
   "id": "8fe941a6",
   "metadata": {},
   "outputs": [
    {
     "name": "stdout",
     "output_type": "stream",
     "text": [
      "1 2 7 6 8 3 4 5 "
     ]
    }
   ],
   "source": [
    "# 각 노드가 연결된 정보를 표현 (2차원 리스트)\n",
    "graph = [\n",
    "    [],\n",
    "    [2, 3, 8],\n",
    "    [1, 7],\n",
    "    [1, 4, 5],\n",
    "    [3, 5],\n",
    "    [3, 4],\n",
    "    [7],\n",
    "    [2, 6, 8],\n",
    "    [1, 7]\n",
    "]\n",
    "\n",
    "# 각 노드가 방문된 정보를 표현 (1차원 리스트)\n",
    "visited = [False] * 9\n",
    "\n",
    "# 정의된 DFS 함수 호출\n",
    "dfs(graph, 1, visited)"
   ]
  },
  {
   "cell_type": "markdown",
   "id": "c730bd61",
   "metadata": {},
   "source": [
    "### BFS 소스코드 예제"
   ]
  },
  {
   "cell_type": "code",
   "execution_count": 3,
   "id": "7dab63e9",
   "metadata": {},
   "outputs": [],
   "source": [
    "from collections import deque\n",
    "\n",
    "# BFS 메서드 정의\n",
    "\n",
    "def bfs(graph, start, visited):\n",
    "    # 큐(Queue) 구현을 위해 deque 라이브러리 사용\n",
    "    queue = deque([start])\n",
    "    # 현재 노드를 방문 처리\n",
    "    visited[start] = True\n",
    "    # 큐가 빌 때까지 반복\n",
    "    while queue:\n",
    "        # 큐에서 하나의 원소를 뽑아 출력하기\n",
    "        v = queue.popleft()\n",
    "        print(v, end = ' ')\n",
    "        # 아직 방문하지 않은 인접한 원소들을 큐에 삽입\n",
    "        for i in graph[v]:\n",
    "            if not visited[i]:\n",
    "                queue.append(i)\n",
    "                visited[i] = True"
   ]
  },
  {
   "cell_type": "code",
   "execution_count": 5,
   "id": "f65d307f",
   "metadata": {},
   "outputs": [
    {
     "name": "stdout",
     "output_type": "stream",
     "text": [
      "1 2 3 8 7 4 5 6 "
     ]
    }
   ],
   "source": [
    "# 각 노드가 연결된 정보를 표현 (2차원 리스트)\n",
    "graph = [\n",
    "    [],\n",
    "    [2, 3, 8],\n",
    "    [1, 7],\n",
    "    [1, 4, 5],\n",
    "    [3, 5],\n",
    "    [3, 4],\n",
    "    [7],\n",
    "    [2, 6, 8],\n",
    "    [1, 7]\n",
    "]\n",
    "\n",
    "# 각 노드가 방문된 정보를 표현 (1차원 리스트)\n",
    "visited = [False] * 9\n",
    "\n",
    "# 정의된 BFS 함수 호출\n",
    "bfs(graph, 1, visited)"
   ]
  },
  {
   "cell_type": "markdown",
   "id": "3d3670be",
   "metadata": {},
   "source": [
    "### <문제> 음료수 얼려먹기"
   ]
  },
  {
   "cell_type": "code",
   "execution_count": 14,
   "id": "01b83442",
   "metadata": {},
   "outputs": [
    {
     "name": "stdout",
     "output_type": "stream",
     "text": [
      "4 5\n",
      "00110\n",
      "00011\n",
      "11111\n",
      "00000\n"
     ]
    }
   ],
   "source": [
    "n,m = map(int, input().split())\n",
    "\n",
    "graph = []\n",
    "for i in range(n):\n",
    "    graph.append(list(map(int, input())))"
   ]
  },
  {
   "cell_type": "code",
   "execution_count": 16,
   "id": "9310ac1e",
   "metadata": {},
   "outputs": [
    {
     "data": {
      "text/plain": [
       "0"
      ]
     },
     "execution_count": 16,
     "metadata": {},
     "output_type": "execute_result"
    }
   ],
   "source": [
    "graph[0][0]"
   ]
  },
  {
   "cell_type": "code",
   "execution_count": 27,
   "id": "843f3167",
   "metadata": {},
   "outputs": [],
   "source": [
    "# DFS로 특정 노드를 방문하고 연결된 모든 노드들도 방문\n",
    "def dfs(x, y):\n",
    "    # 주어진 범위를 벗어나는 경우에는 즉시 종료\n",
    "    if x <= -1 or x >= n or y <= -1 or y>= m:\n",
    "        return False\n",
    "    # 현재 노드를 아직 방문하지 않았다면\n",
    "    if graph[x][y] == 0:\n",
    "        # 해당 노드 방문 처리\n",
    "        graph[x][y] = 1\n",
    "        # 상, 하, 좌, 우의 위치들도 모두 재귀적으로 호출\n",
    "        dfs(x-1, y)\n",
    "        dfs(x, y-1)\n",
    "        dfs(x+1, y)\n",
    "        dfs(x, y+1)\n",
    "        return True\n",
    "    return False"
   ]
  },
  {
   "cell_type": "code",
   "execution_count": 28,
   "id": "8d607e46",
   "metadata": {},
   "outputs": [
    {
     "name": "stdout",
     "output_type": "stream",
     "text": [
      "3\n"
     ]
    }
   ],
   "source": [
    "# 모든 노드(위치)에 대하여 음료수 채우기\n",
    "result = 0\n",
    "for i in range(n):\n",
    "    for j in range(m):\n",
    "        # 현재 위치에서 DFS 수행\n",
    "        if dfs(i, j) == True:\n",
    "            result += 1\n",
    "\n",
    "print(result) # 정답출력"
   ]
  },
  {
   "cell_type": "markdown",
   "id": "b54dd6a8",
   "metadata": {},
   "source": [
    "### <문제> 미로 탈출"
   ]
  },
  {
   "cell_type": "code",
   "execution_count": 33,
   "id": "c7dcc9e4",
   "metadata": {},
   "outputs": [
    {
     "name": "stdout",
     "output_type": "stream",
     "text": [
      "5 6\n",
      "101010\n",
      "111111\n",
      "000001\n",
      "111111\n",
      "111111\n"
     ]
    }
   ],
   "source": [
    "n, m = map(int, input().split())\n",
    "\n",
    "graph = []\n",
    "for i in range(n):\n",
    "    graph.append(list(map(int, input())))"
   ]
  },
  {
   "cell_type": "code",
   "execution_count": 34,
   "id": "688b0ab7",
   "metadata": {},
   "outputs": [
    {
     "data": {
      "text/plain": [
       "[[1, 0, 1, 0, 1, 0],\n",
       " [1, 1, 1, 1, 1, 1],\n",
       " [0, 0, 0, 0, 0, 1],\n",
       " [1, 1, 1, 1, 1, 1],\n",
       " [1, 1, 1, 1, 1, 1]]"
      ]
     },
     "execution_count": 34,
     "metadata": {},
     "output_type": "execute_result"
    }
   ],
   "source": [
    "graph"
   ]
  },
  {
   "cell_type": "code",
   "execution_count": 35,
   "id": "0182958d",
   "metadata": {},
   "outputs": [],
   "source": [
    "# 이동할 네 가지 방향 정의 (상, 하, 좌, 우)\n",
    "dx = [-1, 1, 0, 0]\n",
    "dy = [0, 0, -1, 1]"
   ]
  },
  {
   "cell_type": "code",
   "execution_count": 47,
   "id": "6d603e98",
   "metadata": {},
   "outputs": [],
   "source": [
    "# BFS 메소드 구현\n",
    "def bfs(x, y):\n",
    "    # 큐(Queue) 구현을 위해 deque 라이브러리 사용\n",
    "    queue = deque()\n",
    "    queue.append((x, y))\n",
    "    # 큐가 빌 때까지 반복하기\n",
    "    while queue:\n",
    "        x, y = queue.popleft()\n",
    "        # 현재 위치에서 4가지 방향으로의 위치 확인\n",
    "        for i in range(4):\n",
    "            nx = x + dx[i]\n",
    "            ny = y + dy[i]\n",
    "            # 미로 찾기 공간을 벗어난 경우 무시\n",
    "            if nx < 0 or nx >= n or ny < 0 or ny >= m:\n",
    "                continue\n",
    "            # 벽인 경우 무시\n",
    "            if graph[nx][ny] == 0:\n",
    "                continue\n",
    "            # 해당 노드를 처음 방문하는 경우에만 최단 거리 기록\n",
    "            if graph[nx][ny] == 1:\n",
    "                graph[nx][ny] = graph[x][y]+1\n",
    "                queue.append((nx, ny))\n",
    "    # 가장 오른쪽 아래까지의 최단 거리 반환\n",
    "    return graph[n-1][m-1]"
   ]
  },
  {
   "cell_type": "code",
   "execution_count": 48,
   "id": "2b311e18",
   "metadata": {},
   "outputs": [
    {
     "name": "stdout",
     "output_type": "stream",
     "text": [
      "10\n"
     ]
    }
   ],
   "source": [
    "# BFS를 수행한 결과 출력\n",
    "print(bfs(0,0))"
   ]
  },
  {
   "cell_type": "code",
   "execution_count": 49,
   "id": "6dad2001",
   "metadata": {},
   "outputs": [
    {
     "data": {
      "text/plain": [
       "[[3, 0, 5, 0, 7, 0],\n",
       " [2, 3, 4, 5, 6, 7],\n",
       " [0, 0, 0, 0, 0, 8],\n",
       " [14, 13, 12, 11, 10, 9],\n",
       " [15, 14, 13, 12, 11, 10]]"
      ]
     },
     "execution_count": 49,
     "metadata": {},
     "output_type": "execute_result"
    }
   ],
   "source": [
    "graph"
   ]
  },
  {
   "cell_type": "markdown",
   "id": "6f44e6fa",
   "metadata": {},
   "source": [
    "### 백준 1926 그림"
   ]
  },
  {
   "cell_type": "code",
   "execution_count": 63,
   "id": "eb4a6d8e",
   "metadata": {},
   "outputs": [
    {
     "name": "stdout",
     "output_type": "stream",
     "text": [
      "6 5\n",
      "11011\n",
      "01100\n",
      "00000\n",
      "10111\n",
      "00111\n",
      "00111\n"
     ]
    }
   ],
   "source": [
    "# n, m = map(int, input().split())\n",
    "\n",
    "# graph = []\n",
    "# for i in range(n):\n",
    "#     graph.append(list(map(int, input())))"
   ]
  },
  {
   "cell_type": "code",
   "execution_count": 73,
   "id": "d9668b2a",
   "metadata": {},
   "outputs": [],
   "source": [
    "graph = [\n",
    "    [1, 1, 0, 1, 1],\n",
    "    [0, 1, 1, 0, 0],\n",
    "    [0, 0, 0, 0, 0],\n",
    "    [1, 0, 1, 1, 1],\n",
    "    [0, 0, 1, 1, 1],\n",
    "    [0, 0, 1, 1, 1]]"
   ]
  },
  {
   "cell_type": "code",
   "execution_count": 66,
   "id": "31538a02",
   "metadata": {},
   "outputs": [],
   "source": [
    "def dfs(x, y):\n",
    "    if x <= -1 or x >= n or y <= -1 or y >= m:\n",
    "        return False\n",
    "    if graph[x][y] == 1:\n",
    "        graph[x][y] = 0\n",
    "        dfs(x-1, y)\n",
    "        dfs(x+1, y)\n",
    "        dfs(x, y-1)\n",
    "        dfs(x, y+1)\n",
    "        return True\n",
    "    return False"
   ]
  },
  {
   "cell_type": "code",
   "execution_count": 67,
   "id": "ef07bfa1",
   "metadata": {},
   "outputs": [
    {
     "name": "stdout",
     "output_type": "stream",
     "text": [
      "4\n"
     ]
    }
   ],
   "source": [
    "result = 0\n",
    "for i in range(n):\n",
    "    for j in range(m):\n",
    "        if dfs(i, j) == True:\n",
    "            result += 1\n",
    "            \n",
    "print(result)"
   ]
  },
  {
   "cell_type": "code",
   "execution_count": 77,
   "id": "30b7d75b",
   "metadata": {},
   "outputs": [],
   "source": [
    "# 상하좌우\n",
    "dx = [-1, 1, 0, 0]\n",
    "dy = [0, 0, -1, 1]\n",
    "\n",
    "result = []\n",
    "\n",
    "def bfs(x, y):\n",
    "    sum = 0\n",
    "    queue = deque()\n",
    "    queue.append((x, y))\n",
    "    while queue:\n",
    "        x, y = queue.popleft()\n",
    "        for i in range(4):\n",
    "            nx = x + dx[i]\n",
    "            ny = y + dy[i]\n",
    "            if nx <= -1 or nx >= n or ny <= -1 or ny >= m:\n",
    "                continue\n",
    "            if graph[nx][ny] == 0:\n",
    "                continue\n",
    "            if graph[nx][ny] == 1:\n",
    "                sum += 1\n",
    "                queue.append((nx, ny))\n",
    "    return graph[n-1][m-1]"
   ]
  },
  {
   "cell_type": "code",
   "execution_count": null,
   "id": "7e704172",
   "metadata": {},
   "outputs": [],
   "source": []
  },
  {
   "cell_type": "code",
   "execution_count": null,
   "id": "caeaee81",
   "metadata": {},
   "outputs": [],
   "source": []
  },
  {
   "cell_type": "code",
   "execution_count": null,
   "id": "6ff2924b",
   "metadata": {},
   "outputs": [],
   "source": []
  },
  {
   "cell_type": "code",
   "execution_count": null,
   "id": "b23ed617",
   "metadata": {},
   "outputs": [],
   "source": []
  },
  {
   "cell_type": "code",
   "execution_count": null,
   "id": "53b23ceb",
   "metadata": {},
   "outputs": [],
   "source": []
  },
  {
   "cell_type": "code",
   "execution_count": null,
   "id": "779d9038",
   "metadata": {},
   "outputs": [],
   "source": []
  }
 ],
 "metadata": {
  "kernelspec": {
   "display_name": "Python 3 (ipykernel)",
   "language": "python",
   "name": "python3"
  },
  "language_info": {
   "codemirror_mode": {
    "name": "ipython",
    "version": 3
   },
   "file_extension": ".py",
   "mimetype": "text/x-python",
   "name": "python",
   "nbconvert_exporter": "python",
   "pygments_lexer": "ipython3",
   "version": "3.9.7"
  }
 },
 "nbformat": 4,
 "nbformat_minor": 5
}
