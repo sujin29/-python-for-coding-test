{
 "cells": [
  {
   "cell_type": "markdown",
   "id": "4cd7b616-5578-47d2-8232-cc4ff38f1c31",
   "metadata": {},
   "source": [
    "## <문제> 1이 될 때까지"
   ]
  },
  {
   "cell_type": "code",
   "execution_count": null,
   "id": "f17b4bf8-b688-4ab8-b880-fdcaf9acb2e2",
   "metadata": {},
   "outputs": [],
   "source": [
    "### 내 풀이"
   ]
  },
  {
   "cell_type": "code",
   "execution_count": null,
   "id": "83af6cd4-9df0-4947-8ffa-d8ea53467faf",
   "metadata": {},
   "outputs": [],
   "source": [
    "n = 25\n",
    "k = 5"
   ]
  },
  {
   "cell_type": "code",
   "execution_count": 3,
   "id": "39dbfc15-4fb6-4438-ad4f-2c4213de1888",
   "metadata": {},
   "outputs": [
    {
     "data": {
      "text/plain": [
       "0"
      ]
     },
     "execution_count": 3,
     "metadata": {},
     "output_type": "execute_result"
    }
   ],
   "source": [
    "n%5"
   ]
  },
  {
   "cell_type": "code",
   "execution_count": 14,
   "id": "56f8406a-5a33-43ce-abd0-8bd0bab1113a",
   "metadata": {},
   "outputs": [
    {
     "data": {
      "text/plain": [
       "5"
      ]
     },
     "execution_count": 14,
     "metadata": {},
     "output_type": "execute_result"
    }
   ],
   "source": [
    "n = 25\n",
    "k = 5\n",
    "n//k"
   ]
  },
  {
   "cell_type": "code",
   "execution_count": 16,
   "id": "b123f9d8-398a-495c-b622-f56883cfd8c2",
   "metadata": {},
   "outputs": [
    {
     "name": "stdout",
     "output_type": "stream",
     "text": [
      "1 2\n"
     ]
    }
   ],
   "source": [
    "n = 25\n",
    "k = 5\n",
    "i = 0\n",
    "\n",
    "while n > 1:\n",
    "    i += 1\n",
    "    if n%k == 0:\n",
    "        n = n//k\n",
    "    elif n != 1:\n",
    "        n = n-1\n",
    "print(n, i)"
   ]
  },
  {
   "cell_type": "code",
   "execution_count": 17,
   "id": "2ae7e0c2-33a0-40b9-b5a4-df5d008a1ddf",
   "metadata": {},
   "outputs": [
    {
     "name": "stdout",
     "output_type": "stream",
     "text": [
      "1 6\n"
     ]
    }
   ],
   "source": [
    "n = 25\n",
    "k = 3\n",
    "i = 0\n",
    "\n",
    "while n > 1:\n",
    "    i += 1\n",
    "    if n%k == 0:\n",
    "        n = n//k\n",
    "    elif n != 1:\n",
    "        n = n-1\n",
    "print(n, i)"
   ]
  },
  {
   "cell_type": "code",
   "execution_count": 19,
   "id": "df2761d7-f142-481c-b960-91f861b1b1aa",
   "metadata": {},
   "outputs": [],
   "source": [
    "### 답안 예시"
   ]
  },
  {
   "cell_type": "code",
   "execution_count": 33,
   "id": "2c01bedc-7417-44b0-99e0-2356c93c43e6",
   "metadata": {},
   "outputs": [
    {
     "name": "stdin",
     "output_type": "stream",
     "text": [
      " 99 5\n"
     ]
    },
    {
     "name": "stdout",
     "output_type": "stream",
     "text": [
      "15\n"
     ]
    }
   ],
   "source": [
    "# N, K를 공백을 기준으로 구분하여 입력 받기\n",
    "\n",
    "n, k = map(int, input().split())\n",
    "\n",
    "result = 0\n",
    "\n",
    "while True:\n",
    "    # N이 K로 나누어떨어지는 수가 될 때까지 빼기\n",
    "    target = (n//k) * k\n",
    "    result += (n - target)\n",
    "    # N이 K보다 작을 때 (더 이상 나눌 수 없을 때) 반복문 탈출\n",
    "    if n < k:\n",
    "        break\n",
    "    # K로 나누기\n",
    "    result += 1\n",
    "    n //= k\n",
    "\n",
    "#마지막으로 남은 수에 대하여 1씩 빼기\n",
    "result += (n-1)\n",
    "print(result)"
   ]
  },
  {
   "cell_type": "markdown",
   "id": "104b3d80-95d8-4dc5-9295-50fa09003f3d",
   "metadata": {},
   "source": [
    "## <문제> 곱하기 혹은 더하기"
   ]
  },
  {
   "cell_type": "code",
   "execution_count": null,
   "id": "4dff2e2d-36ce-485b-8495-acbda8ab1be5",
   "metadata": {},
   "outputs": [],
   "source": [
    "### 내 풀이"
   ]
  },
  {
   "cell_type": "code",
   "execution_count": 2,
   "id": "25bffefd-e59d-4405-b667-dee4758be6f5",
   "metadata": {},
   "outputs": [
    {
     "name": "stdin",
     "output_type": "stream",
     "text": [
      " 11001\n"
     ]
    },
    {
     "ename": "KeyboardInterrupt",
     "evalue": "",
     "output_type": "error",
     "traceback": [
      "\u001b[0;31m---------------------------------------------------------------------------\u001b[0m",
      "\u001b[0;31mKeyboardInterrupt\u001b[0m                         Traceback (most recent call last)",
      "\u001b[0;32m<ipython-input-2-76996c5dcd7b>\u001b[0m in \u001b[0;36m<module>\u001b[0;34m\u001b[0m\n\u001b[1;32m     10\u001b[0m     \u001b[0mn\u001b[0m \u001b[0;34m+=\u001b[0m \u001b[0;36m1\u001b[0m\u001b[0;34m\u001b[0m\u001b[0;34m\u001b[0m\u001b[0m\n\u001b[1;32m     11\u001b[0m \u001b[0;32mwhile\u001b[0m \u001b[0mn\u001b[0m \u001b[0;34m<\u001b[0m \u001b[0;36m5\u001b[0m\u001b[0;34m:\u001b[0m\u001b[0;34m\u001b[0m\u001b[0;34m\u001b[0m\u001b[0m\n\u001b[0;32m---> 12\u001b[0;31m     \u001b[0;32mif\u001b[0m \u001b[0mint\u001b[0m\u001b[0;34m(\u001b[0m\u001b[0mx\u001b[0m\u001b[0;34m[\u001b[0m\u001b[0mn\u001b[0m\u001b[0;34m+\u001b[0m\u001b[0;36m1\u001b[0m\u001b[0;34m]\u001b[0m\u001b[0;34m)\u001b[0m \u001b[0;34m>\u001b[0m \u001b[0;36m1\u001b[0m\u001b[0;34m:\u001b[0m\u001b[0;34m\u001b[0m\u001b[0;34m\u001b[0m\u001b[0m\n\u001b[0m\u001b[1;32m     13\u001b[0m         \u001b[0mresult\u001b[0m \u001b[0;34m*=\u001b[0m \u001b[0mint\u001b[0m\u001b[0;34m(\u001b[0m\u001b[0mx\u001b[0m\u001b[0;34m[\u001b[0m\u001b[0mn\u001b[0m\u001b[0;34m+\u001b[0m\u001b[0;36m1\u001b[0m\u001b[0;34m]\u001b[0m\u001b[0;34m)\u001b[0m\u001b[0;34m\u001b[0m\u001b[0;34m\u001b[0m\u001b[0m\n\u001b[1;32m     14\u001b[0m     \u001b[0;32melse\u001b[0m\u001b[0;34m:\u001b[0m\u001b[0;34m\u001b[0m\u001b[0;34m\u001b[0m\u001b[0m\n",
      "\u001b[0;31mKeyboardInterrupt\u001b[0m: "
     ]
    }
   ],
   "source": [
    "x = str(input())\n",
    "\n",
    "n = 0\n",
    "result = int(x[0])\n",
    "\n",
    "while True:\n",
    "    if result > 1:\n",
    "        break\n",
    "    result += int(x[n+1])\n",
    "    n += 1\n",
    "while n < 5:\n",
    "    if int(x[n+1]) > 1:\n",
    "        result *= int(x[n+1])\n",
    "    else:\n",
    "        result += int(x[n+1])\n",
    "\n",
    "\n",
    "print(result)"
   ]
  },
  {
   "cell_type": "code",
   "execution_count": null,
   "id": "cf011335-1c53-4e01-9a61-05da6f8de097",
   "metadata": {},
   "outputs": [],
   "source": [
    "### 답안 예시"
   ]
  },
  {
   "cell_type": "code",
   "execution_count": 5,
   "id": "90d391d7-6808-47b3-80f3-0c052c7ecf22",
   "metadata": {},
   "outputs": [
    {
     "name": "stdin",
     "output_type": "stream",
     "text": [
      " 10910\n"
     ]
    },
    {
     "name": "stdout",
     "output_type": "stream",
     "text": [
      "11\n"
     ]
    }
   ],
   "source": [
    "data = input()\n",
    "\n",
    "# 첫 번째 문자를 숫자로 변경하여 대입\n",
    "result = int(data[0])\n",
    "\n",
    "for i in range(1, len(data)):\n",
    "    # 두 수 중에서 하나라도 '0', '1'인 경우, 곱하기보다는 더하기 수행\n",
    "    num = int(data[i])\n",
    "    if num <=1 or result <=1:\n",
    "        result += num\n",
    "    else:\n",
    "        result *= num\n",
    "print(result)"
   ]
  },
  {
   "cell_type": "markdown",
   "id": "e887814e-29ce-4327-9b01-ec9d611bdb32",
   "metadata": {},
   "source": [
    "## <문제> 모험가 길드"
   ]
  },
  {
   "cell_type": "code",
   "execution_count": 9,
   "id": "6794a0e3-8943-44a0-a0be-2d8d17beae0b",
   "metadata": {},
   "outputs": [
    {
     "name": "stdout",
     "output_type": "stream",
     "text": [
      "3\n"
     ]
    }
   ],
   "source": [
    "n = 5\n",
    "k = [2, 3, 1, 2, 2]\n",
    "\n",
    "max = k[0]\n",
    "for i in range(1, len(k)):\n",
    "    if max > k[i]:\n",
    "        max = max\n",
    "    else:\n",
    "        max = k[i]\n",
    "\n",
    "k"
   ]
  },
  {
   "cell_type": "code",
   "execution_count": 11,
   "id": "a81ebd77-bdd7-4fbb-b7ff-77e2fa9669b0",
   "metadata": {},
   "outputs": [],
   "source": [
    "### 답안 예시"
   ]
  },
  {
   "cell_type": "code",
   "execution_count": 13,
   "id": "4d800d0d-a061-4a57-a294-3c0e4b462225",
   "metadata": {},
   "outputs": [
    {
     "name": "stdin",
     "output_type": "stream",
     "text": [
      " 5\n",
      " 1 1 2 2 1\n"
     ]
    },
    {
     "name": "stdout",
     "output_type": "stream",
     "text": [
      "4\n"
     ]
    }
   ],
   "source": [
    "n = int(input())\n",
    "data = list(map(int, input().split()))\n",
    "data.sort()\n",
    "\n",
    "result = 0 # 총 그룹의 수\n",
    "count = 0 # 현재 그룹에 포함된 모험가의 수\n",
    "\n",
    "for i in data: # 공포도를 낮은 것부터 하나씩 확인\n",
    "    count += 1 # 현재 그룹에 해당 모험가를 포함시키기\n",
    "    if count >= i: # 현재 그룹에 포험된 모험가의 수가 현재의 공포도 이상이라면, 그룹 결성\n",
    "        result += 1 # 총 그룹의 수 증가시키기\n",
    "        count = 0 # 현재 그룹에 포함된 모험가의 수 초기화\n",
    "\n",
    "print(result) # 총 그룹의 수 출력"
   ]
  },
  {
   "cell_type": "code",
   "execution_count": null,
   "id": "4ce916a1-bb26-4bb5-a209-d8dc397e78d1",
   "metadata": {},
   "outputs": [],
   "source": []
  }
 ],
 "metadata": {
  "kernelspec": {
   "display_name": "Python 3",
   "language": "python",
   "name": "python3"
  },
  "language_info": {
   "codemirror_mode": {
    "name": "ipython",
    "version": 3
   },
   "file_extension": ".py",
   "mimetype": "text/x-python",
   "name": "python",
   "nbconvert_exporter": "python",
   "pygments_lexer": "ipython3",
   "version": "3.7.8"
  }
 },
 "nbformat": 4,
 "nbformat_minor": 5
}
