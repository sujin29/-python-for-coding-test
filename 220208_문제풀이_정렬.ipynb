{
 "cells": [
  {
   "cell_type": "markdown",
   "id": "4736327c",
   "metadata": {},
   "source": [
    "### 프로그래머스 K번째수\n",
    "42748"
   ]
  },
  {
   "cell_type": "code",
   "execution_count": 20,
   "id": "bb2d2ef5",
   "metadata": {},
   "outputs": [],
   "source": [
    "def solution(array, commands):\n",
    "    \n",
    "    answer = []\n",
    "    for command in commands:\n",
    "\n",
    "        i = command[0]\n",
    "        j = command[1]\n",
    "        k = command[2]\n",
    "\n",
    "        numbers = array[i-1:j]\n",
    "\n",
    "        for num in range(len(numbers)):\n",
    "            min_index = num\n",
    "            for nu in range(num+1, len(numbers)):\n",
    "                if numbers[min_index] > numbers[nu]:\n",
    "                    min_index = nu\n",
    "            numbers[num], numbers[min_index] = numbers[min_index], numbers[num]\n",
    "            \n",
    "        answer.append(numbers[k-1])\n",
    "\n",
    "    return answer\n"
   ]
  },
  {
   "cell_type": "code",
   "execution_count": 21,
   "id": "1d31fd91",
   "metadata": {},
   "outputs": [],
   "source": [
    "array = [1, 5, 2, 6, 3, 7, 4]\n",
    "commands = [[2, 5, 3], [4, 4, 1], [1, 7, 3]]"
   ]
  },
  {
   "cell_type": "code",
   "execution_count": 22,
   "id": "06e5d66c",
   "metadata": {},
   "outputs": [
    {
     "data": {
      "text/plain": [
       "[5, 6, 3]"
      ]
     },
     "execution_count": 22,
     "metadata": {},
     "output_type": "execute_result"
    }
   ],
   "source": [
    "solution(array, commands)"
   ]
  },
  {
   "cell_type": "code",
   "execution_count": null,
   "id": "4acc0cee",
   "metadata": {},
   "outputs": [],
   "source": []
  },
  {
   "cell_type": "code",
   "execution_count": 25,
   "id": "a775688a",
   "metadata": {},
   "outputs": [
    {
     "data": {
      "text/plain": [
       "[1, 2, 3, 4, 5, 6, 7]"
      ]
     },
     "execution_count": 25,
     "metadata": {},
     "output_type": "execute_result"
    }
   ],
   "source": [
    "array.sort()\n",
    "array"
   ]
  },
  {
   "cell_type": "code",
   "execution_count": 32,
   "id": "d9adcc5b",
   "metadata": {},
   "outputs": [],
   "source": [
    "def solution(array, commands):\n",
    "    \n",
    "    answer = []\n",
    "    \n",
    "    for command in commands:\n",
    "        i = command[0]\n",
    "        j = command[1]\n",
    "        k = command[2]\n",
    "        \n",
    "        new_array = array[i-1: j]\n",
    "        new_array.sort()\n",
    "        \n",
    "        answer.append(new_array[k-1])\n",
    "    \n",
    "    return answer"
   ]
  },
  {
   "cell_type": "code",
   "execution_count": 33,
   "id": "86144ecd",
   "metadata": {},
   "outputs": [],
   "source": [
    "array = [1, 5, 2, 6, 3, 7, 4]\n",
    "commands = [[2, 5, 3], [4, 4, 1], [1, 7, 3]]"
   ]
  },
  {
   "cell_type": "code",
   "execution_count": 34,
   "id": "2cc126eb",
   "metadata": {},
   "outputs": [
    {
     "data": {
      "text/plain": [
       "[5, 6, 3]"
      ]
     },
     "execution_count": 34,
     "metadata": {},
     "output_type": "execute_result"
    }
   ],
   "source": [
    "solution(array, commands)"
   ]
  },
  {
   "cell_type": "markdown",
   "id": "68a5ab8a",
   "metadata": {},
   "source": [
    "### 백준 수 묶기\n",
    "1744"
   ]
  },
  {
   "cell_type": "code",
   "execution_count": 34,
   "id": "4b2065a4",
   "metadata": {},
   "outputs": [
    {
     "name": "stdout",
     "output_type": "stream",
     "text": [
      "2\n",
      "-1 1\n"
     ]
    }
   ],
   "source": [
    "data = input()\n",
    "array = list(map(int, input().split()))"
   ]
  },
  {
   "cell_type": "code",
   "execution_count": 48,
   "id": "77dcd86d",
   "metadata": {},
   "outputs": [],
   "source": [
    "array = [-1, 1]"
   ]
  },
  {
   "cell_type": "code",
   "execution_count": 8,
   "id": "9a174239",
   "metadata": {},
   "outputs": [
    {
     "name": "stdout",
     "output_type": "stream",
     "text": [
      "12\n"
     ]
    }
   ],
   "source": [
    "data = input()\n",
    "array = list(map(int, input().split()))\n",
    "\n",
    "\n",
    "num_plus = []\n",
    "num_minus = []\n",
    "\n",
    "sum_list = []\n",
    "\n",
    "for number in array:\n",
    "    if number > 0:\n",
    "        num_plus.append(number)\n",
    "    else:\n",
    "        num_minus.append(number)\n",
    "\n",
    "num_plus.sort(reverse = True)\n",
    "num_minus.sort()\n",
    "\n",
    "# print(num_plus)\n",
    "# print(num_minus)\n",
    "# print(sum_list)\n",
    "# print('-'*50)\n",
    "\n",
    "while len(num_plus) >= 1:\n",
    "    \n",
    "    if len(num_plus) == 1:\n",
    "        sum_list.append(num_plus.pop())\n",
    "\n",
    "    else:\n",
    "        x = num_plus.pop(0)\n",
    "        y = num_plus.pop(0)\n",
    "        \n",
    "        if (x == 1) | (y == 1):\n",
    "            sum_list.append(x+y)\n",
    "        else:\n",
    "            sum_list.append(x*y)\n",
    "\n",
    "# print(num_plus)\n",
    "# print(num_minus)\n",
    "# print(sum_list)\n",
    "# print('-'*50)\n",
    "        \n",
    "while len(num_minus) >= 1:\n",
    "    \n",
    "    if len(num_minus) == 1:\n",
    "        sum_list.append(num_minus.pop())\n",
    "        \n",
    "    else:\n",
    "        x = num_minus.pop(0)\n",
    "        y = num_minus.pop(0)\n",
    "\n",
    "        sum_list.append(x*y)\n",
    "\n",
    "    \n",
    "print(sum(sum_list))"
   ]
  },
  {
   "cell_type": "code",
   "execution_count": null,
   "id": "a8c826be",
   "metadata": {},
   "outputs": [],
   "source": []
  },
  {
   "cell_type": "code",
   "execution_count": null,
   "id": "ce0a62bc",
   "metadata": {},
   "outputs": [],
   "source": []
  },
  {
   "cell_type": "code",
   "execution_count": null,
   "id": "bd39a7cd",
   "metadata": {},
   "outputs": [],
   "source": []
  },
  {
   "cell_type": "code",
   "execution_count": null,
   "id": "64087f2c",
   "metadata": {},
   "outputs": [],
   "source": []
  },
  {
   "cell_type": "code",
   "execution_count": null,
   "id": "064edd68",
   "metadata": {},
   "outputs": [],
   "source": []
  },
  {
   "cell_type": "code",
   "execution_count": null,
   "id": "7312d0b0",
   "metadata": {},
   "outputs": [],
   "source": []
  },
  {
   "cell_type": "code",
   "execution_count": null,
   "id": "a3500cc0",
   "metadata": {},
   "outputs": [],
   "source": []
  },
  {
   "cell_type": "code",
   "execution_count": null,
   "id": "3e108514",
   "metadata": {},
   "outputs": [],
   "source": []
  },
  {
   "cell_type": "code",
   "execution_count": null,
   "id": "7dd284cc",
   "metadata": {},
   "outputs": [],
   "source": []
  },
  {
   "cell_type": "code",
   "execution_count": null,
   "id": "0900eb33",
   "metadata": {},
   "outputs": [],
   "source": []
  },
  {
   "cell_type": "code",
   "execution_count": null,
   "id": "34fe6b06",
   "metadata": {},
   "outputs": [],
   "source": []
  },
  {
   "cell_type": "code",
   "execution_count": null,
   "id": "8ab0b1f8",
   "metadata": {},
   "outputs": [],
   "source": []
  }
 ],
 "metadata": {
  "kernelspec": {
   "display_name": "Python 3 (ipykernel)",
   "language": "python",
   "name": "python3"
  },
  "language_info": {
   "codemirror_mode": {
    "name": "ipython",
    "version": 3
   },
   "file_extension": ".py",
   "mimetype": "text/x-python",
   "name": "python",
   "nbconvert_exporter": "python",
   "pygments_lexer": "ipython3",
   "version": "3.9.7"
  }
 },
 "nbformat": 4,
 "nbformat_minor": 5
}
